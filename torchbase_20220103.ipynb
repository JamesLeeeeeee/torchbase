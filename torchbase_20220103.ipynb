{
  "nbformat": 4,
  "nbformat_minor": 0,
  "metadata": {
    "colab": {
      "name": "torchbase_20220103.ipynb",
      "provenance": [],
      "authorship_tag": "ABX9TyNVh/XuHE9M3/SEY7WDRctI",
      "include_colab_link": true
    },
    "kernelspec": {
      "name": "python3",
      "display_name": "Python 3"
    },
    "language_info": {
      "name": "python"
    }
  },
  "cells": [
    {
      "cell_type": "markdown",
      "metadata": {
        "id": "view-in-github",
        "colab_type": "text"
      },
      "source": [
        "<a href=\"https://colab.research.google.com/github/JamesLeeeeeee/torchbase/blob/master/torchbase_20220103.ipynb\" target=\"_parent\"><img src=\"https://colab.research.google.com/assets/colab-badge.svg\" alt=\"Open In Colab\"/></a>"
      ]
    },
    {
      "cell_type": "code",
      "execution_count": 3,
      "metadata": {
        "id": "yWUS4cog90IY"
      },
      "outputs": [],
      "source": [
        "import torch\n",
        "import torch.nn as nn\n",
        "import torch.nn.functional as F\n",
        "import torch.optim as optim"
      ]
    },
    {
      "cell_type": "code",
      "source": [
        "torch.manual_seed(1)"
      ],
      "metadata": {
        "colab": {
          "base_uri": "https://localhost:8080/"
        },
        "id": "fCut-GdS-QYD",
        "outputId": "539202b6-fbf8-4ce2-e138-423464f4392a"
      },
      "execution_count": 4,
      "outputs": [
        {
          "output_type": "execute_result",
          "data": {
            "text/plain": [
              "<torch._C.Generator at 0x7fd56d568a10>"
            ]
          },
          "metadata": {},
          "execution_count": 4
        }
      ]
    },
    {
      "cell_type": "code",
      "source": [
        "x_train= torch.FloatTensor([[1],[2],[3]])\n",
        "y_train= torch.FloatTensor([[2],[4],[6]])"
      ],
      "metadata": {
        "id": "JxL48KWt_ZC6"
      },
      "execution_count": 5,
      "outputs": []
    },
    {
      "cell_type": "code",
      "source": [
        "print(x_train)\n",
        "print(x_train.shape)\n",
        "print(y_train)\n",
        "print(y_train.shape)"
      ],
      "metadata": {
        "colab": {
          "base_uri": "https://localhost:8080/"
        },
        "id": "_WoEB-HeAHvO",
        "outputId": "31f0ca3f-22a2-491e-9955-1f6c01f653f6"
      },
      "execution_count": 6,
      "outputs": [
        {
          "output_type": "stream",
          "name": "stdout",
          "text": [
            "tensor([[1.],\n",
            "        [2.],\n",
            "        [3.]])\n",
            "torch.Size([3, 1])\n",
            "tensor([[2.],\n",
            "        [4.],\n",
            "        [6.]])\n",
            "torch.Size([3, 1])\n"
          ]
        }
      ]
    },
    {
      "cell_type": "code",
      "source": [
        "W=torch.zeros(1, requires_grad=True)\n",
        "print(W)"
      ],
      "metadata": {
        "colab": {
          "base_uri": "https://localhost:8080/"
        },
        "id": "yYX5WLKjAOxm",
        "outputId": "54b4363d-ff42-4f6e-c9a2-d1ef08e56e30"
      },
      "execution_count": 7,
      "outputs": [
        {
          "output_type": "stream",
          "name": "stdout",
          "text": [
            "tensor([0.], requires_grad=True)\n"
          ]
        }
      ]
    },
    {
      "cell_type": "code",
      "source": [
        "b= torch.zeros(1, requires_grad=True)\n",
        "print(b)"
      ],
      "metadata": {
        "colab": {
          "base_uri": "https://localhost:8080/"
        },
        "id": "4CJMDA_7A5L-",
        "outputId": "1ea793ea-6332-42ab-f7b5-3e8b1c1b3cf1"
      },
      "execution_count": 8,
      "outputs": [
        {
          "output_type": "stream",
          "name": "stdout",
          "text": [
            "tensor([0.], requires_grad=True)\n"
          ]
        }
      ]
    },
    {
      "cell_type": "code",
      "source": [
        "hypothesis= x_train*W+b\n",
        "print(hypothesis)"
      ],
      "metadata": {
        "colab": {
          "base_uri": "https://localhost:8080/"
        },
        "id": "U_KTCIYLJntJ",
        "outputId": "311d1ded-54ef-4026-b91b-565c3a14879e"
      },
      "execution_count": 9,
      "outputs": [
        {
          "output_type": "stream",
          "name": "stdout",
          "text": [
            "tensor([[0.],\n",
            "        [0.],\n",
            "        [0.]], grad_fn=<AddBackward0>)\n"
          ]
        }
      ]
    },
    {
      "cell_type": "code",
      "source": [
        "cost= torch.mean((hypothesis - y_train)**2)\n",
        "print(cost)"
      ],
      "metadata": {
        "colab": {
          "base_uri": "https://localhost:8080/"
        },
        "id": "AbOTt6Q2KU4_",
        "outputId": "e0793493-2fb8-46d3-bafb-1103e8c7cbb4"
      },
      "execution_count": 10,
      "outputs": [
        {
          "output_type": "stream",
          "name": "stdout",
          "text": [
            "tensor(18.6667, grad_fn=<MeanBackward0>)\n"
          ]
        }
      ]
    },
    {
      "cell_type": "code",
      "source": [
        "optimizer= optim.SGD([W, b], lr=0.01)"
      ],
      "metadata": {
        "id": "oyLdCnGTNabh"
      },
      "execution_count": 11,
      "outputs": []
    },
    {
      "cell_type": "code",
      "source": [
        "optimizer.zero_grad() #gradient 0으로 초기화\n",
        "\n",
        "cost.backward()  # 비용함수를 미분해서 가중치와 편향 계산\n",
        "optimizer.step() #W와 b에서 리턴되는 변수들의 기울기에 lr(learningrate를 곱해 기울기에서 빼줌)\n"
      ],
      "metadata": {
        "id": "vBx9isM4Z9nz"
      },
      "execution_count": 12,
      "outputs": []
    },
    {
      "cell_type": "code",
      "source": [
        "x_train= torch.FloatTensor([[1],[2],[3]])\n",
        "y_train= torch.FloatTensor([[2],[4],[6]])\n",
        "W=torch.zeros(1,requires_grad=True)\n",
        "b= torch.zeros(1, requires_grad=True)\n",
        "optimizer= optim.SGD([W,b], lr=0.01)\n",
        "nb_epochs = 1999 #경사하강법 반복 수"
      ],
      "metadata": {
        "id": "0tleeReRNrfX"
      },
      "execution_count": 19,
      "outputs": []
    },
    {
      "cell_type": "code",
      "source": [
        "for epoch in range(nb_epochs+2):\n",
        "  hypothesis= x_train*W+b #H(x)계산< 가설 수립\n",
        "  cost= torch.mean((hypothesis - y_train)**2) #평균제곱오차\n",
        "  #코스트로 H(x)개선\n",
        "  optimizer.zero_grad()\n",
        "  cost.backward()\n",
        "  optimizer.step()\n",
        "  if epoch%100==0:\n",
        "    print('Epoch {:4d}/{} W: {:.3f} b: {:.3f} Cost: {:.6f}'.format(epoch, nb_epochs, \n",
        "                                                         W.item(), b.item(),\n",
        "                                                         cost.item()))"
      ],
      "metadata": {
        "colab": {
          "base_uri": "https://localhost:8080/"
        },
        "id": "5lcVGP7VOMsV",
        "outputId": "483b77f4-135e-439f-a53e-d347d4ec47f4"
      },
      "execution_count": 20,
      "outputs": [
        {
          "output_type": "stream",
          "name": "stdout",
          "text": [
            "Epoch    0/1999 W: 0.187 b: 0.080 Cost: 18.666666\n",
            "Epoch  100/1999 W: 1.746 b: 0.578 Cost: 0.048171\n",
            "Epoch  200/1999 W: 1.800 b: 0.454 Cost: 0.029767\n",
            "Epoch  300/1999 W: 1.843 b: 0.357 Cost: 0.018394\n",
            "Epoch  400/1999 W: 1.876 b: 0.281 Cost: 0.011366\n",
            "Epoch  500/1999 W: 1.903 b: 0.221 Cost: 0.007024\n",
            "Epoch  600/1999 W: 1.924 b: 0.174 Cost: 0.004340\n",
            "Epoch  700/1999 W: 1.940 b: 0.136 Cost: 0.002682\n",
            "Epoch  800/1999 W: 1.953 b: 0.107 Cost: 0.001657\n",
            "Epoch  900/1999 W: 1.963 b: 0.084 Cost: 0.001024\n",
            "Epoch 1000/1999 W: 1.971 b: 0.066 Cost: 0.000633\n",
            "Epoch 1100/1999 W: 1.977 b: 0.052 Cost: 0.000391\n",
            "Epoch 1200/1999 W: 1.982 b: 0.041 Cost: 0.000242\n",
            "Epoch 1300/1999 W: 1.986 b: 0.032 Cost: 0.000149\n",
            "Epoch 1400/1999 W: 1.989 b: 0.025 Cost: 0.000092\n",
            "Epoch 1500/1999 W: 1.991 b: 0.020 Cost: 0.000057\n",
            "Epoch 1600/1999 W: 1.993 b: 0.016 Cost: 0.000035\n",
            "Epoch 1700/1999 W: 1.995 b: 0.012 Cost: 0.000022\n",
            "Epoch 1800/1999 W: 1.996 b: 0.010 Cost: 0.000013\n",
            "Epoch 1900/1999 W: 1.997 b: 0.008 Cost: 0.000008\n",
            "Epoch 2000/1999 W: 1.997 b: 0.006 Cost: 0.000005\n"
          ]
        }
      ]
    },
    {
      "cell_type": "code",
      "source": [
        "w= torch.tensor(2.0, requires_grad=True)\n",
        "nb_epochs= 20\n",
        "for epoch in range(nb_epochs+1):\n",
        "  z= 2*w\n",
        "  z.backward()\n",
        "  print('수식을 w로 미분한 값 : {}'.format(w.grad))"
      ],
      "metadata": {
        "colab": {
          "base_uri": "https://localhost:8080/"
        },
        "id": "5sDq1dkGQMAM",
        "outputId": "780273fb-64b4-4919-ccd8-9621c6900c99"
      },
      "execution_count": 21,
      "outputs": [
        {
          "output_type": "stream",
          "name": "stdout",
          "text": [
            "수식을 w로 미분한 값 : 2.0\n",
            "수식을 w로 미분한 값 : 4.0\n",
            "수식을 w로 미분한 값 : 6.0\n",
            "수식을 w로 미분한 값 : 8.0\n",
            "수식을 w로 미분한 값 : 10.0\n",
            "수식을 w로 미분한 값 : 12.0\n",
            "수식을 w로 미분한 값 : 14.0\n",
            "수식을 w로 미분한 값 : 16.0\n",
            "수식을 w로 미분한 값 : 18.0\n",
            "수식을 w로 미분한 값 : 20.0\n",
            "수식을 w로 미분한 값 : 22.0\n",
            "수식을 w로 미분한 값 : 24.0\n",
            "수식을 w로 미분한 값 : 26.0\n",
            "수식을 w로 미분한 값 : 28.0\n",
            "수식을 w로 미분한 값 : 30.0\n",
            "수식을 w로 미분한 값 : 32.0\n",
            "수식을 w로 미분한 값 : 34.0\n",
            "수식을 w로 미분한 값 : 36.0\n",
            "수식을 w로 미분한 값 : 38.0\n",
            "수식을 w로 미분한 값 : 40.0\n",
            "수식을 w로 미분한 값 : 42.0\n"
          ]
        }
      ]
    },
    {
      "cell_type": "code",
      "source": [
        ""
      ],
      "metadata": {
        "id": "fqc5WyAORi1k"
      },
      "execution_count": null,
      "outputs": []
    }
  ]
}