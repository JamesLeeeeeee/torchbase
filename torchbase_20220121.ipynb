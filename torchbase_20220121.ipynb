{
  "nbformat": 4,
  "nbformat_minor": 0,
  "metadata": {
    "colab": {
      "name": "torchbase_20220121.ipynb",
      "provenance": [],
      "authorship_tag": "ABX9TyP9ok8b/ADklGG0zS5wAj5d",
      "include_colab_link": true
    },
    "kernelspec": {
      "name": "python3",
      "display_name": "Python 3"
    },
    "language_info": {
      "name": "python"
    }
  },
  "cells": [
    {
      "cell_type": "markdown",
      "metadata": {
        "id": "view-in-github",
        "colab_type": "text"
      },
      "source": [
        "<a href=\"https://colab.research.google.com/github/JamesLeeeeeee/torchbase/blob/master/torchbase_20220121.ipynb\" target=\"_parent\"><img src=\"https://colab.research.google.com/assets/colab-badge.svg\" alt=\"Open In Colab\"/></a>"
      ]
    },
    {
      "cell_type": "code",
      "execution_count": 1,
      "metadata": {
        "id": "gppSEj0wL35O"
      },
      "outputs": [],
      "source": [
        "import torch\n",
        "import torch.nn as nn\n",
        "import torch.nn.functional as F"
      ]
    },
    {
      "cell_type": "code",
      "source": [
        "from torch.utils.data import TensorDataset\n",
        "from torch.utils.data import DataLoader"
      ],
      "metadata": {
        "id": "RYRnZOEGOVHC"
      },
      "execution_count": 2,
      "outputs": []
    },
    {
      "cell_type": "code",
      "source": [
        "x_train  =  torch.FloatTensor([[73,  80,  75], \n",
        "                               [93,  88,  93], \n",
        "                               [89,  91,  90], \n",
        "                               [96,  98,  100],   \n",
        "                               [73,  66,  70]])  \n",
        "y_train  =  torch.FloatTensor([[152],  [185],  [180],  [196],  [142]])"
      ],
      "metadata": {
        "id": "zLEoRouCOqCE"
      },
      "execution_count": 3,
      "outputs": []
    },
    {
      "cell_type": "code",
      "source": [
        "dataset= TensorDataset(x_train, y_train)"
      ],
      "metadata": {
        "id": "ZhRj13d0OsJV"
      },
      "execution_count": 4,
      "outputs": []
    },
    {
      "cell_type": "code",
      "source": [
        "dataloader= DataLoader(dataset, batch_size=2, shuffle=True)"
      ],
      "metadata": {
        "id": "LK2PxKbrOwxV"
      },
      "execution_count": 5,
      "outputs": []
    },
    {
      "cell_type": "code",
      "source": [
        "model=nn.Linear(3,1)\n",
        "optimizer=torch.optim.SGD(model.parameters(),lr=1e-5)"
      ],
      "metadata": {
        "id": "J-tev0bUO82s"
      },
      "execution_count": 6,
      "outputs": []
    },
    {
      "cell_type": "code",
      "source": [
        "epochs=20\n",
        "for epoch in range(epochs+1):\n",
        "  for batch_idx, samples in enumerate(dataloader):\n",
        "    x_train, y_train= samples\n",
        "    prediction= model(x_train)\n",
        "    cost= F.mse_loss(prediction, y_train)\n",
        "\n",
        "    optimizer.zero_grad()\n",
        "    cost.backward()\n",
        "    optimizer.step()\n",
        "\n",
        "    print('Epoch: {:4d}/{} Batch: {}/{} Cost: {:.5f}'.format(epoch, epochs,\n",
        "                                                             batch_idx+1, len(dataloader),\n",
        "                                                             cost.item()))"
      ],
      "metadata": {
        "colab": {
          "base_uri": "https://localhost:8080/"
        },
        "id": "FGQfFkJWPE10",
        "outputId": "ee77eca5-7170-4758-caca-1488c7111b04"
      },
      "execution_count": 8,
      "outputs": [
        {
          "output_type": "stream",
          "name": "stdout",
          "text": [
            "Epoch:    0/20 Batch: 1/3 Cost: 35863.55078\n",
            "Epoch:    0/20 Batch: 2/3 Cost: 13366.13477\n",
            "Epoch:    0/20 Batch: 3/3 Cost: 6415.87158\n",
            "Epoch:    1/20 Batch: 1/3 Cost: 1034.71094\n",
            "Epoch:    1/20 Batch: 2/3 Cost: 150.86877\n",
            "Epoch:    1/20 Batch: 3/3 Cost: 128.22342\n",
            "Epoch:    2/20 Batch: 1/3 Cost: 17.76906\n",
            "Epoch:    2/20 Batch: 2/3 Cost: 9.66714\n",
            "Epoch:    2/20 Batch: 3/3 Cost: 0.19234\n",
            "Epoch:    3/20 Batch: 1/3 Cost: 1.09938\n",
            "Epoch:    3/20 Batch: 2/3 Cost: 1.40111\n",
            "Epoch:    3/20 Batch: 3/3 Cost: 0.00304\n",
            "Epoch:    4/20 Batch: 1/3 Cost: 1.16268\n",
            "Epoch:    4/20 Batch: 2/3 Cost: 0.97073\n",
            "Epoch:    4/20 Batch: 3/3 Cost: 0.10861\n",
            "Epoch:    5/20 Batch: 1/3 Cost: 0.53829\n",
            "Epoch:    5/20 Batch: 2/3 Cost: 0.68297\n",
            "Epoch:    5/20 Batch: 3/3 Cost: 1.32656\n",
            "Epoch:    6/20 Batch: 1/3 Cost: 1.67025\n",
            "Epoch:    6/20 Batch: 2/3 Cost: 0.22585\n",
            "Epoch:    6/20 Batch: 3/3 Cost: 0.90363\n",
            "Epoch:    7/20 Batch: 1/3 Cost: 1.32459\n",
            "Epoch:    7/20 Batch: 2/3 Cost: 0.51755\n",
            "Epoch:    7/20 Batch: 3/3 Cost: 0.00164\n",
            "Epoch:    8/20 Batch: 1/3 Cost: 0.73773\n",
            "Epoch:    8/20 Batch: 2/3 Cost: 0.29873\n",
            "Epoch:    8/20 Batch: 3/3 Cost: 1.33638\n",
            "Epoch:    9/20 Batch: 1/3 Cost: 0.79278\n",
            "Epoch:    9/20 Batch: 2/3 Cost: 0.96271\n",
            "Epoch:    9/20 Batch: 3/3 Cost: 0.01534\n",
            "Epoch:   10/20 Batch: 1/3 Cost: 0.44670\n",
            "Epoch:   10/20 Batch: 2/3 Cost: 1.03227\n",
            "Epoch:   10/20 Batch: 3/3 Cost: 0.02816\n",
            "Epoch:   11/20 Batch: 1/3 Cost: 0.99028\n",
            "Epoch:   11/20 Batch: 2/3 Cost: 0.42697\n",
            "Epoch:   11/20 Batch: 3/3 Cost: 1.11497\n",
            "Epoch:   12/20 Batch: 1/3 Cost: 1.17286\n",
            "Epoch:   12/20 Batch: 2/3 Cost: 0.81470\n",
            "Epoch:   12/20 Batch: 3/3 Cost: 0.13463\n",
            "Epoch:   13/20 Batch: 1/3 Cost: 0.76758\n",
            "Epoch:   13/20 Batch: 2/3 Cost: 0.84289\n",
            "Epoch:   13/20 Batch: 3/3 Cost: 0.03440\n",
            "Epoch:   14/20 Batch: 1/3 Cost: 1.03827\n",
            "Epoch:   14/20 Batch: 2/3 Cost: 0.09744\n",
            "Epoch:   14/20 Batch: 3/3 Cost: 0.82284\n",
            "Epoch:   15/20 Batch: 1/3 Cost: 0.27507\n",
            "Epoch:   15/20 Batch: 2/3 Cost: 0.93346\n",
            "Epoch:   15/20 Batch: 3/3 Cost: 1.53629\n",
            "Epoch:   16/20 Batch: 1/3 Cost: 0.48691\n",
            "Epoch:   16/20 Batch: 2/3 Cost: 0.70774\n",
            "Epoch:   16/20 Batch: 3/3 Cost: 2.10674\n",
            "Epoch:   17/20 Batch: 1/3 Cost: 0.51194\n",
            "Epoch:   17/20 Batch: 2/3 Cost: 0.39165\n",
            "Epoch:   17/20 Batch: 3/3 Cost: 1.87885\n",
            "Epoch:   18/20 Batch: 1/3 Cost: 0.37332\n",
            "Epoch:   18/20 Batch: 2/3 Cost: 0.40947\n",
            "Epoch:   18/20 Batch: 3/3 Cost: 1.70496\n",
            "Epoch:   19/20 Batch: 1/3 Cost: 0.56181\n",
            "Epoch:   19/20 Batch: 2/3 Cost: 1.03419\n",
            "Epoch:   19/20 Batch: 3/3 Cost: 0.17230\n",
            "Epoch:   20/20 Batch: 1/3 Cost: 0.32001\n",
            "Epoch:   20/20 Batch: 2/3 Cost: 1.00099\n",
            "Epoch:   20/20 Batch: 3/3 Cost: 0.68984\n"
          ]
        }
      ]
    },
    {
      "cell_type": "code",
      "source": [
        "new_var= torch.FloatTensor([73,80,75])\n",
        "pred_y= model(new_var)\n",
        "print(pred_y)"
      ],
      "metadata": {
        "colab": {
          "base_uri": "https://localhost:8080/"
        },
        "id": "hI9RbGfYPUbE",
        "outputId": "5aea4044-1fad-48cc-e423-ff6ef2bca6df"
      },
      "execution_count": 9,
      "outputs": [
        {
          "output_type": "stream",
          "name": "stdout",
          "text": [
            "tensor([152.6560], grad_fn=<AddBackward0>)\n"
          ]
        }
      ]
    },
    {
      "cell_type": "code",
      "source": [
        "import torch\n",
        "import torch.nn.functional as F\n",
        "from torch.utils.data import Dataset\n",
        "from torch.utils.data import DataLoader"
      ],
      "metadata": {
        "id": "59sBl4sERoUI"
      },
      "execution_count": 11,
      "outputs": []
    },
    {
      "cell_type": "code",
      "source": [
        "class CustomDataset(Dataset):\n",
        "  def __init__(self):\n",
        "    self.x_data=[[73,80,75],\n",
        "                 [93,88,93],\n",
        "                 [89,91,90],\n",
        "                 [96,98,100],\n",
        "                 [73,66,70]]\n",
        "    self.y_data=[[152],[185],[180],[196],[142]]\n",
        "  \n",
        "  def __len__(self):\n",
        "    return len(self.x_data)\n",
        "\n",
        "  def __getitem__(self, idx):\n",
        "    x= torch.FloatTensor(self.x_data[idx])\n",
        "    y= torch.FloatTensor(self.y_data[idx])\n",
        "    return x,y"
      ],
      "metadata": {
        "id": "NKdTtpW2ZDBX"
      },
      "execution_count": 12,
      "outputs": []
    },
    {
      "cell_type": "code",
      "source": [
        "dataset=CustomDataset()\n",
        "dataloader= DataLoader(dataset, batch_size=2, shuffle=True)"
      ],
      "metadata": {
        "id": "6szJPFyTa6VG"
      },
      "execution_count": 14,
      "outputs": []
    },
    {
      "cell_type": "code",
      "source": [
        "model= torch.nn.Linear(3,1)\n",
        "optimizer=torch.optim.SGD(model.parameters(), lr=1e-5)"
      ],
      "metadata": {
        "id": "6WXIS5bYZ42y"
      },
      "execution_count": 15,
      "outputs": []
    },
    {
      "cell_type": "code",
      "source": [
        "epochs=20\n",
        "for epoch in range(epochs+1):\n",
        "  for batch_idx, samples in enumerate(dataloader):\n",
        "\n",
        "    x_train, y_train =samples\n",
        "\n",
        "    prediction= model(x_train)\n",
        "    cost=F.mse_loss(prediction, y_train)\n",
        "\n",
        "    optimizer.zero_grad()\n",
        "    cost.backward()\n",
        "    optimizer.step()\n",
        "\n",
        "    print('Epoch: {:4d}/{} Batch:{}/{} Cost: {:.5f}'.format(epoch, epochs,\n",
        "                                                            batch_idx+1, len(dataloader),\n",
        "                                                            cost.item()))"
      ],
      "metadata": {
        "colab": {
          "base_uri": "https://localhost:8080/"
        },
        "id": "3x1KSIgYaYVQ",
        "outputId": "846873c8-4eb5-46c9-888a-9da202f83ca3"
      },
      "execution_count": 16,
      "outputs": [
        {
          "output_type": "stream",
          "name": "stdout",
          "text": [
            "Epoch:    0/20 Batch:1/3 Cost: 39876.08594\n",
            "Epoch:    0/20 Batch:2/3 Cost: 12258.62988\n",
            "Epoch:    0/20 Batch:3/3 Cost: 5070.33154\n",
            "Epoch:    1/20 Batch:1/3 Cost: 1355.65173\n",
            "Epoch:    1/20 Batch:2/3 Cost: 188.67784\n",
            "Epoch:    1/20 Batch:3/3 Cost: 82.75624\n",
            "Epoch:    2/20 Batch:1/3 Cost: 39.72870\n",
            "Epoch:    2/20 Batch:2/3 Cost: 10.81925\n",
            "Epoch:    2/20 Batch:3/3 Cost: 0.80618\n",
            "Epoch:    3/20 Batch:1/3 Cost: 1.64684\n",
            "Epoch:    3/20 Batch:2/3 Cost: 1.00753\n",
            "Epoch:    3/20 Batch:3/3 Cost: 0.20532\n",
            "Epoch:    4/20 Batch:1/3 Cost: 0.23242\n",
            "Epoch:    4/20 Batch:2/3 Cost: 0.22378\n",
            "Epoch:    4/20 Batch:3/3 Cost: 0.76725\n",
            "Epoch:    5/20 Batch:1/3 Cost: 0.08716\n",
            "Epoch:    5/20 Batch:2/3 Cost: 0.19008\n",
            "Epoch:    5/20 Batch:3/3 Cost: 0.83858\n",
            "Epoch:    6/20 Batch:1/3 Cost: 0.47669\n",
            "Epoch:    6/20 Batch:2/3 Cost: 0.29587\n",
            "Epoch:    6/20 Batch:3/3 Cost: 0.05771\n",
            "Epoch:    7/20 Batch:1/3 Cost: 0.46746\n",
            "Epoch:    7/20 Batch:2/3 Cost: 0.12668\n",
            "Epoch:    7/20 Batch:3/3 Cost: 0.11795\n",
            "Epoch:    8/20 Batch:1/3 Cost: 0.06622\n",
            "Epoch:    8/20 Batch:2/3 Cost: 0.24774\n",
            "Epoch:    8/20 Batch:3/3 Cost: 0.61422\n",
            "Epoch:    9/20 Batch:1/3 Cost: 0.10318\n",
            "Epoch:    9/20 Batch:2/3 Cost: 0.16455\n",
            "Epoch:    9/20 Batch:3/3 Cost: 0.88131\n",
            "Epoch:   10/20 Batch:1/3 Cost: 0.22179\n",
            "Epoch:   10/20 Batch:2/3 Cost: 0.44525\n",
            "Epoch:   10/20 Batch:3/3 Cost: 0.13022\n",
            "Epoch:   11/20 Batch:1/3 Cost: 0.22779\n",
            "Epoch:   11/20 Batch:2/3 Cost: 0.09808\n",
            "Epoch:   11/20 Batch:3/3 Cost: 0.55123\n",
            "Epoch:   12/20 Batch:1/3 Cost: 0.53024\n",
            "Epoch:   12/20 Batch:2/3 Cost: 0.08347\n",
            "Epoch:   12/20 Batch:3/3 Cost: 0.01299\n",
            "Epoch:   13/20 Batch:1/3 Cost: 0.49038\n",
            "Epoch:   13/20 Batch:2/3 Cost: 0.07809\n",
            "Epoch:   13/20 Batch:3/3 Cost: 0.02265\n",
            "Epoch:   14/20 Batch:1/3 Cost: 0.32887\n",
            "Epoch:   14/20 Batch:2/3 Cost: 0.28870\n",
            "Epoch:   14/20 Batch:3/3 Cost: 0.01770\n",
            "Epoch:   15/20 Batch:1/3 Cost: 0.48780\n",
            "Epoch:   15/20 Batch:2/3 Cost: 0.06545\n",
            "Epoch:   15/20 Batch:3/3 Cost: 0.05634\n",
            "Epoch:   16/20 Batch:1/3 Cost: 0.08249\n",
            "Epoch:   16/20 Batch:2/3 Cost: 0.30154\n",
            "Epoch:   16/20 Batch:3/3 Cost: 0.53430\n",
            "Epoch:   17/20 Batch:1/3 Cost: 0.53396\n",
            "Epoch:   17/20 Batch:2/3 Cost: 0.08383\n",
            "Epoch:   17/20 Batch:3/3 Cost: 0.01222\n",
            "Epoch:   18/20 Batch:1/3 Cost: 0.33948\n",
            "Epoch:   18/20 Batch:2/3 Cost: 0.27458\n",
            "Epoch:   18/20 Batch:3/3 Cost: 0.18400\n",
            "Epoch:   19/20 Batch:1/3 Cost: 0.46146\n",
            "Epoch:   19/20 Batch:2/3 Cost: 0.06225\n",
            "Epoch:   19/20 Batch:3/3 Cost: 0.07654\n",
            "Epoch:   20/20 Batch:1/3 Cost: 0.07743\n",
            "Epoch:   20/20 Batch:2/3 Cost: 0.21282\n",
            "Epoch:   20/20 Batch:3/3 Cost: 0.84676\n"
          ]
        }
      ]
    },
    {
      "cell_type": "code",
      "source": [
        "new_var=torch.FloatTensor([[73,80,75]])\n",
        "print(model(new_var))"
      ],
      "metadata": {
        "colab": {
          "base_uri": "https://localhost:8080/"
        },
        "id": "SoXcw59fbzN7",
        "outputId": "9180e19d-f193-4377-8ba0-a586c0b9dd6d"
      },
      "execution_count": 17,
      "outputs": [
        {
          "output_type": "stream",
          "name": "stdout",
          "text": [
            "tensor([[151.1486]], grad_fn=<AddmmBackward0>)\n"
          ]
        }
      ]
    },
    {
      "cell_type": "code",
      "source": [
        "%matplotlib inline\n",
        "import numpy as np\n",
        "import matplotlib.pyplot as plt"
      ],
      "metadata": {
        "id": "ptT6AUczcBTg"
      },
      "execution_count": 19,
      "outputs": []
    },
    {
      "cell_type": "code",
      "source": [
        "def sigmoid(x):\n",
        "  return 1/(1+np.exp(-x))"
      ],
      "metadata": {
        "id": "-q4vqIF_iETU"
      },
      "execution_count": 20,
      "outputs": []
    },
    {
      "cell_type": "code",
      "source": [
        "x=np.arange(-5.0, 5.0, 0.1)\n",
        "y=sigmoid(x)\n",
        "\n",
        "plt.plot(x, y, 'g')\n",
        "plt.plot([0,0],[1.0,0.0], ':')\n",
        "plt.title('Sigmoid Function')\n",
        "plt.show()"
      ],
      "metadata": {
        "colab": {
          "base_uri": "https://localhost:8080/",
          "height": 281
        },
        "id": "1htqrTRniiKR",
        "outputId": "f8e8f132-4744-4218-915b-55a2478f1355"
      },
      "execution_count": 21,
      "outputs": [
        {
          "output_type": "display_data",
          "data": {
            "image/png": "[encoded data removed]",
            "text/plain": [
              "<Figure size 432x288 with 1 Axes>"
            ]
          },
          "metadata": {
            "needs_background": "light"
          }
        }
      ]
    },
    {
      "cell_type": "code",
      "source": [
        "x= np.arange(-5.0, 5.0, 0.1)\n",
        "y1=sigmoid(0.5*x)\n",
        "y2=sigmoid(x)\n",
        "y3=sigmoid(2*x)\n",
        "\n",
        "plt.plot(x, y1, 'r', linestyle='--')\n",
        "plt.plot(x, y2, 'g')\n",
        "plt.plot(x, y3, 'b', linestyle='--')\n",
        "plt.plot([0,0],[1.0,0.0],':')\n",
        "plt.title('Sigmoid Function')\n",
        "plt.show()"
      ],
      "metadata": {
        "colab": {
          "base_uri": "https://localhost:8080/",
          "height": 281
        },
        "id": "suk2yxPyi2ll",
        "outputId": "edd93b0b-ac28-4ae1-8eff-35b818db7f4b"
      },
      "execution_count": 23,
      "outputs": [
        {
          "output_type": "display_data",
          "data": {
            "image/png": "[encoded data removed]",
            "text/plain": [
              "<Figure size 432x288 with 1 Axes>"
            ]
          },
          "metadata": {
            "needs_background": "light"
          }
        }
      ]
    },
    {
      "cell_type": "code",
      "source": [
        "x=np.arange(-5.0, 5.0, 0.1)\n",
        "y1= sigmoid(x+0.5)\n",
        "y2=sigmoid(x+1)\n",
        "y3=sigmoid(x+2)\n",
        "\n",
        "plt.plot(x, y1, 'r', linestyle='--')\n",
        "plt.plot(x, y2, 'g')\n",
        "plt.plot(x, y3, 'b', linestyle='--')\n",
        "plt.plot([0,0],[1.0,0.0],':')\n",
        "plt.title('sigmoid Function + x')\n",
        "plt.show()"
      ],
      "metadata": {
        "colab": {
          "base_uri": "https://localhost:8080/",
          "height": 281
        },
        "id": "p2YYoioRjnBF",
        "outputId": "fe0499b8-7231-4900-95c2-2b465aaf9ebe"
      },
      "execution_count": 25,
      "outputs": [
        {
          "output_type": "display_data",
          "data": {
            "image/png": "[encoded data removed]",
            "text/plain": [
              "<Figure size 432x288 with 1 Axes>"
            ]
          },
          "metadata": {
            "needs_background": "light"
          }
        }
      ]
    },
    {
      "cell_type": "code",
      "source": [
        "import torch\n",
        "import torch.nn as nn\n",
        "import torch.nn.functional as F\n",
        "import torch.optim as optim\n",
        "torch.manual_seed(1)"
      ],
      "metadata": {
        "colab": {
          "base_uri": "https://localhost:8080/"
        },
        "id": "cBVMiEfgt_oZ",
        "outputId": "c971dc10-a288-4e33-eb89-a908154971d6"
      },
      "execution_count": 30,
      "outputs": [
        {
          "output_type": "execute_result",
          "data": {
            "text/plain": [
              "<torch._C.Generator at 0x7f3a48be1af0>"
            ]
          },
          "metadata": {},
          "execution_count": 30
        }
      ]
    },
    {
      "cell_type": "code",
      "source": [
        "x_data=[[1,2],[2,3],[3,1],[4,3],[5,3],[6,2]]\n",
        "y_data=[[0],[0],[0],[1],[1],[1]]\n",
        "x_train= torch.FloatTensor(x_data)\n",
        "y_train=torch.FloatTensor(y_data)\n",
        "print(x_train.shape)\n",
        "print(y_train.shape)"
      ],
      "metadata": {
        "colab": {
          "base_uri": "https://localhost:8080/"
        },
        "id": "tHmDJv1X0wET",
        "outputId": "6ea579e3-afbb-4c9c-dc21-ca0c07d5d4de"
      },
      "execution_count": 31,
      "outputs": [
        {
          "output_type": "stream",
          "name": "stdout",
          "text": [
            "torch.Size([6, 2])\n",
            "torch.Size([6, 1])\n"
          ]
        }
      ]
    },
    {
      "cell_type": "code",
      "source": [
        "W=torch.zeros((2,1), requires_grad=True)\n",
        "b=torch.zeros(1, requires_grad=True)"
      ],
      "metadata": {
        "id": "k27I4Ud51FuA"
      },
      "execution_count": 32,
      "outputs": []
    },
    {
      "cell_type": "code",
      "source": [
        "hypothesis= 1/ (1+torch.exp(-(x_train.matmul(W)+b)))"
      ],
      "metadata": {
        "id": "fa0bK_NK1QRA"
      },
      "execution_count": 33,
      "outputs": []
    },
    {
      "cell_type": "code",
      "source": [
        "print(hypothesis)"
      ],
      "metadata": {
        "colab": {
          "base_uri": "https://localhost:8080/"
        },
        "id": "o15BfZoGNLV5",
        "outputId": "9b3da2fe-4649-49b6-9e95-00711d8257ef"
      },
      "execution_count": 34,
      "outputs": [
        {
          "output_type": "stream",
          "name": "stdout",
          "text": [
            "tensor([[0.5000],\n",
            "        [0.5000],\n",
            "        [0.5000],\n",
            "        [0.5000],\n",
            "        [0.5000],\n",
            "        [0.5000]], grad_fn=<MulBackward0>)\n"
          ]
        }
      ]
    },
    {
      "cell_type": "code",
      "source": [
        "hypothesis= torch.sigmoid(x_train.matmul(W)+b)"
      ],
      "metadata": {
        "id": "UqcmWhJ8ORog"
      },
      "execution_count": 35,
      "outputs": []
    },
    {
      "cell_type": "code",
      "source": [
        "print(hypothesis)"
      ],
      "metadata": {
        "colab": {
          "base_uri": "https://localhost:8080/"
        },
        "id": "UB427ifVXM5O",
        "outputId": "1e0d411a-2b10-49c4-90ec-52f2d6347055"
      },
      "execution_count": 36,
      "outputs": [
        {
          "output_type": "stream",
          "name": "stdout",
          "text": [
            "tensor([[0.5000],\n",
            "        [0.5000],\n",
            "        [0.5000],\n",
            "        [0.5000],\n",
            "        [0.5000],\n",
            "        [0.5000]], grad_fn=<SigmoidBackward0>)\n"
          ]
        }
      ]
    },
    {
      "cell_type": "code",
      "source": [
        "print(y_train)"
      ],
      "metadata": {
        "colab": {
          "base_uri": "https://localhost:8080/"
        },
        "id": "J1XM-JqNXO-7",
        "outputId": "5d76a2ff-c7c8-45c5-8ca4-49b26286d154"
      },
      "execution_count": 37,
      "outputs": [
        {
          "output_type": "stream",
          "name": "stdout",
          "text": [
            "tensor([[0.],\n",
            "        [0.],\n",
            "        [0.],\n",
            "        [1.],\n",
            "        [1.],\n",
            "        [1.]])\n"
          ]
        }
      ]
    },
    {
      "cell_type": "code",
      "source": [
        "-(y_train[0]*torch.log(hypothesis[0]))+(1-y_train[0])*torch.log(1-hypothesis[0])"
      ],
      "metadata": {
        "colab": {
          "base_uri": "https://localhost:8080/"
        },
        "id": "jzlKbxdlZrWT",
        "outputId": "453cdba1-477b-4c00-9a6e-2b52fb994570"
      },
      "execution_count": 41,
      "outputs": [
        {
          "output_type": "execute_result",
          "data": {
            "text/plain": [
              "tensor([-0.6931], grad_fn=<AddBackward0>)"
            ]
          },
          "metadata": {},
          "execution_count": 41
        }
      ]
    },
    {
      "cell_type": "code",
      "source": [
        "losses= -(y_train*torch.log(hypothesis)+(1-y_train)*torch.log(1-hypothesis))\n",
        "print(losses)"
      ],
      "metadata": {
        "colab": {
          "base_uri": "https://localhost:8080/"
        },
        "id": "-GDd5rTmauQM",
        "outputId": "3d129ab8-9437-490c-8634-2451bb73b358"
      },
      "execution_count": 42,
      "outputs": [
        {
          "output_type": "stream",
          "name": "stdout",
          "text": [
            "tensor([[0.6931],\n",
            "        [0.6931],\n",
            "        [0.6931],\n",
            "        [0.6931],\n",
            "        [0.6931],\n",
            "        [0.6931]], grad_fn=<NegBackward0>)\n"
          ]
        }
      ]
    },
    {
      "cell_type": "code",
      "source": [
        "cost=losses.mean()\n",
        "print(cost)"
      ],
      "metadata": {
        "colab": {
          "base_uri": "https://localhost:8080/"
        },
        "id": "1hhoKeHudbTh",
        "outputId": "ef588ab4-521f-448c-9772-b6f6e546a4d3"
      },
      "execution_count": 43,
      "outputs": [
        {
          "output_type": "stream",
          "name": "stdout",
          "text": [
            "tensor(0.6931, grad_fn=<MeanBackward0>)\n"
          ]
        }
      ]
    },
    {
      "cell_type": "code",
      "source": [
        "F.binary_cross_entropy(hypothesis, y_train)"
      ],
      "metadata": {
        "colab": {
          "base_uri": "https://localhost:8080/"
        },
        "id": "fVvrlZc4dhJN",
        "outputId": "a233283d-dd41-41fc-b61f-56d1f15a6052"
      },
      "execution_count": 44,
      "outputs": [
        {
          "output_type": "execute_result",
          "data": {
            "text/plain": [
              "tensor(0.6931, grad_fn=<BinaryCrossEntropyBackward0>)"
            ]
          },
          "metadata": {},
          "execution_count": 44
        }
      ]
    },
    {
      "cell_type": "code",
      "source": [
        "x_data = [[1, 2], [2, 3], [3, 1], [4, 3], [5, 3], [6, 2]]\n",
        "y_data = [[0], [0], [0], [1], [1], [1]]\n",
        "x_train = torch.FloatTensor(x_data)\n",
        "y_train = torch.FloatTensor(y_data)"
      ],
      "metadata": {
        "id": "mHxroihvdpW9"
      },
      "execution_count": 50,
      "outputs": []
    },
    {
      "cell_type": "code",
      "source": [
        "W=torch.zeros((2,1), requires_grad=True)\n",
        "b=torch.zeros(1,requires_grad=True)\n",
        "\n",
        "optimizer=optim.SGD([W,b], lr=1)\n",
        "epochs=1000\n",
        "for epoch in range(epochs+1):\n",
        "  hypothesis= torch.sigmoid(x_train.matmul(W)+b)\n",
        "  cost= -(y_train*torch.log(hypothesis)+\n",
        "              (1-y_train)*torch.log(1-hypothesis)).mean()\n",
        "  optimizer.zero_grad()\n",
        "  cost.backward()\n",
        "  optimizer.step()\n",
        "\n",
        "  if epoch %100==0:\n",
        "    print('Epoch:{:4d}/{} Cost:{:.5f}'.format(epoch, epochs, cost.item()))    "
      ],
      "metadata": {
        "colab": {
          "base_uri": "https://localhost:8080/"
        },
        "id": "u79kOHEPdtes",
        "outputId": "4a241171-3d7c-4557-834e-29810b0d1c49"
      },
      "execution_count": 65,
      "outputs": [
        {
          "output_type": "stream",
          "name": "stdout",
          "text": [
            "Epoch:   0/1000 Cost:0.69315\n",
            "Epoch: 100/1000 Cost:0.13472\n",
            "Epoch: 200/1000 Cost:0.08064\n",
            "Epoch: 300/1000 Cost:0.05790\n",
            "Epoch: 400/1000 Cost:0.04530\n",
            "Epoch: 500/1000 Cost:0.03726\n",
            "Epoch: 600/1000 Cost:0.03167\n",
            "Epoch: 700/1000 Cost:0.02756\n",
            "Epoch: 800/1000 Cost:0.02439\n",
            "Epoch: 900/1000 Cost:0.02189\n",
            "Epoch:1000/1000 Cost:0.01985\n"
          ]
        }
      ]
    },
    {
      "cell_type": "code",
      "source": [
        "hypothesis=torch.sigmoid(x_train.matmul(W)+b)\n",
        "print(hypothesis)"
      ],
      "metadata": {
        "colab": {
          "base_uri": "https://localhost:8080/"
        },
        "id": "kIdaA1kRhzX4",
        "outputId": "fca06c4c-2f3e-4d33-c61f-3fec090894a9"
      },
      "execution_count": 66,
      "outputs": [
        {
          "output_type": "stream",
          "name": "stdout",
          "text": [
            "tensor([[2.7648e-04],\n",
            "        [3.1608e-02],\n",
            "        [3.8977e-02],\n",
            "        [9.5622e-01],\n",
            "        [9.9823e-01],\n",
            "        [9.9969e-01]], grad_fn=<SigmoidBackward0>)\n"
          ]
        }
      ]
    },
    {
      "cell_type": "code",
      "source": [
        "prediction= hypothesis>=torch.FloatTensor([0.5])\n",
        "print(prediction)"
      ],
      "metadata": {
        "colab": {
          "base_uri": "https://localhost:8080/"
        },
        "id": "6Q-heQhmrKIE",
        "outputId": "181d3ab4-cf3f-4915-fe79-129696f025a1"
      },
      "execution_count": 67,
      "outputs": [
        {
          "output_type": "stream",
          "name": "stdout",
          "text": [
            "tensor([[False],\n",
            "        [False],\n",
            "        [False],\n",
            "        [ True],\n",
            "        [ True],\n",
            "        [ True]])\n"
          ]
        }
      ]
    },
    {
      "cell_type": "code",
      "source": [
        "print(W)\n",
        "print(b)"
      ],
      "metadata": {
        "colab": {
          "base_uri": "https://localhost:8080/"
        },
        "id": "PrmLdzP3sV-S",
        "outputId": "08823683-cd3f-48ef-83ef-48e85cf24f3e"
      },
      "execution_count": 68,
      "outputs": [
        {
          "output_type": "stream",
          "name": "stdout",
          "text": [
            "tensor([[3.2530],\n",
            "        [1.5179]], requires_grad=True)\n",
            "tensor([-14.4819], requires_grad=True)\n"
          ]
        }
      ]
    },
    {
      "cell_type": "code",
      "source": [
        "import torch\n",
        "import torch.nn as nn\n",
        "import torch.nn.functional as F\n",
        "import torch.optim as optim\n",
        "torch.manual_seed(1)"
      ],
      "metadata": {
        "colab": {
          "base_uri": "https://localhost:8080/"
        },
        "id": "43WPiy-js9dy",
        "outputId": "ff375e35-0f83-431f-cbf0-a453326267f9"
      },
      "execution_count": 88,
      "outputs": [
        {
          "output_type": "execute_result",
          "data": {
            "text/plain": [
              "<torch._C.Generator at 0x7f3a48be1af0>"
            ]
          },
          "metadata": {},
          "execution_count": 88
        }
      ]
    },
    {
      "cell_type": "code",
      "source": [
        "x_data = [[1, 2], [2, 3], [3, 1], [4, 3], [5, 3], [6, 2]]\n",
        "y_data = [[0], [0], [0], [1], [1], [1]]\n",
        "x_train = torch.FloatTensor(x_data)\n",
        "y_train = torch.FloatTensor(y_data)"
      ],
      "metadata": {
        "id": "WjLQCzd5tcPE"
      },
      "execution_count": 89,
      "outputs": []
    },
    {
      "cell_type": "code",
      "source": [
        "model= nn.Sequential(\n",
        "    nn.Linear(2,1),\n",
        "    nn.Sigmoid()\n",
        ")"
      ],
      "metadata": {
        "id": "b0j45s3CFhvq"
      },
      "execution_count": 90,
      "outputs": []
    },
    {
      "cell_type": "code",
      "source": [
        "model(x_train)"
      ],
      "metadata": {
        "colab": {
          "base_uri": "https://localhost:8080/"
        },
        "id": "jvdDDZ8nFohh",
        "outputId": "bf415561-14e6-4537-c41e-b02445ab4824"
      },
      "execution_count": 91,
      "outputs": [
        {
          "output_type": "execute_result",
          "data": {
            "text/plain": [
              "tensor([[0.4020],\n",
              "        [0.4147],\n",
              "        [0.6556],\n",
              "        [0.5948],\n",
              "        [0.6788],\n",
              "        [0.8061]], grad_fn=<SigmoidBackward0>)"
            ]
          },
          "metadata": {},
          "execution_count": 91
        }
      ]
    },
    {
      "cell_type": "code",
      "source": [
        "optimizer= optim.SGD(model.parameters(), lr=1)\n",
        "epochs=1000\n",
        "for epoch in range(epochs+1):\n",
        "\n",
        "  hypothesis = model(x_train)\n",
        "\n",
        "  cost=F.binary_cross_entropy(hypothesis, y_train)\n",
        "  \n",
        "  optimizer.zero_grad()\n",
        "  cost.backward()\n",
        "  optimizer.step()\n",
        "\n",
        "  if epoch%10==0:\n",
        "    prediction= hypothesis>= torch.FloatTensor([0.5])\n",
        "\n",
        "    correct_prediction= prediction.float()==y_train\n",
        "\n",
        "    accuracy= correct_prediction.sum().item()/len(correct_prediction)\n",
        "\n",
        "    print('Epoch: {:4d}/{} Cost: {:.5f} Acc: {:2.2f}%'.format(\n",
        "        epoch, epochs, cost.item(), accuracy*100\n",
        "    ))"
      ],
      "metadata": {
        "colab": {
          "base_uri": "https://localhost:8080/"
        },
        "id": "HwHdmjkNFpmy",
        "outputId": "f0a7d510-55fb-43fa-b904-7104bc6cabb4"
      },
      "execution_count": 86,
      "outputs": [
        {
          "output_type": "stream",
          "name": "stdout",
          "text": [
            "Epoch:    0/1000 Cost: 0.53971 Acc: 83.33%\n",
            "Epoch:   10/1000 Cost: 0.61485 Acc: 66.67%\n",
            "Epoch:   20/1000 Cost: 0.44188 Acc: 66.67%\n",
            "Epoch:   30/1000 Cost: 0.37315 Acc: 83.33%\n",
            "Epoch:   40/1000 Cost: 0.31636 Acc: 83.33%\n",
            "Epoch:   50/1000 Cost: 0.26609 Acc: 83.33%\n",
            "Epoch:   60/1000 Cost: 0.22050 Acc: 100.00%\n",
            "Epoch:   70/1000 Cost: 0.18209 Acc: 100.00%\n",
            "Epoch:   80/1000 Cost: 0.15730 Acc: 100.00%\n",
            "Epoch:   90/1000 Cost: 0.14409 Acc: 100.00%\n",
            "Epoch:  100/1000 Cost: 0.13427 Acc: 100.00%\n",
            "Epoch:  110/1000 Cost: 0.12577 Acc: 100.00%\n",
            "Epoch:  120/1000 Cost: 0.11830 Acc: 100.00%\n",
            "Epoch:  130/1000 Cost: 0.11168 Acc: 100.00%\n",
            "Epoch:  140/1000 Cost: 0.10578 Acc: 100.00%\n",
            "Epoch:  150/1000 Cost: 0.10048 Acc: 100.00%\n",
            "Epoch:  160/1000 Cost: 0.09570 Acc: 100.00%\n",
            "Epoch:  170/1000 Cost: 0.09137 Acc: 100.00%\n",
            "Epoch:  180/1000 Cost: 0.08742 Acc: 100.00%\n",
            "Epoch:  190/1000 Cost: 0.08381 Acc: 100.00%\n",
            "Epoch:  200/1000 Cost: 0.08049 Acc: 100.00%\n",
            "Epoch:  210/1000 Cost: 0.07743 Acc: 100.00%\n",
            "Epoch:  220/1000 Cost: 0.07459 Acc: 100.00%\n",
            "Epoch:  230/1000 Cost: 0.07197 Acc: 100.00%\n",
            "Epoch:  240/1000 Cost: 0.06953 Acc: 100.00%\n",
            "Epoch:  250/1000 Cost: 0.06725 Acc: 100.00%\n",
            "Epoch:  260/1000 Cost: 0.06512 Acc: 100.00%\n",
            "Epoch:  270/1000 Cost: 0.06312 Acc: 100.00%\n",
            "Epoch:  280/1000 Cost: 0.06125 Acc: 100.00%\n",
            "Epoch:  290/1000 Cost: 0.05948 Acc: 100.00%\n",
            "Epoch:  300/1000 Cost: 0.05782 Acc: 100.00%\n",
            "Epoch:  310/1000 Cost: 0.05625 Acc: 100.00%\n",
            "Epoch:  320/1000 Cost: 0.05476 Acc: 100.00%\n",
            "Epoch:  330/1000 Cost: 0.05336 Acc: 100.00%\n",
            "Epoch:  340/1000 Cost: 0.05202 Acc: 100.00%\n",
            "Epoch:  350/1000 Cost: 0.05075 Acc: 100.00%\n",
            "Epoch:  360/1000 Cost: 0.04955 Acc: 100.00%\n",
            "Epoch:  370/1000 Cost: 0.04840 Acc: 100.00%\n",
            "Epoch:  380/1000 Cost: 0.04730 Acc: 100.00%\n",
            "Epoch:  390/1000 Cost: 0.04625 Acc: 100.00%\n",
            "Epoch:  400/1000 Cost: 0.04525 Acc: 100.00%\n",
            "Epoch:  410/1000 Cost: 0.04429 Acc: 100.00%\n",
            "Epoch:  420/1000 Cost: 0.04338 Acc: 100.00%\n",
            "Epoch:  430/1000 Cost: 0.04250 Acc: 100.00%\n",
            "Epoch:  440/1000 Cost: 0.04165 Acc: 100.00%\n",
            "Epoch:  450/1000 Cost: 0.04084 Acc: 100.00%\n",
            "Epoch:  460/1000 Cost: 0.04006 Acc: 100.00%\n",
            "Epoch:  470/1000 Cost: 0.03931 Acc: 100.00%\n",
            "Epoch:  480/1000 Cost: 0.03859 Acc: 100.00%\n",
            "Epoch:  490/1000 Cost: 0.03790 Acc: 100.00%\n",
            "Epoch:  500/1000 Cost: 0.03723 Acc: 100.00%\n",
            "Epoch:  510/1000 Cost: 0.03658 Acc: 100.00%\n",
            "Epoch:  520/1000 Cost: 0.03596 Acc: 100.00%\n",
            "Epoch:  530/1000 Cost: 0.03536 Acc: 100.00%\n",
            "Epoch:  540/1000 Cost: 0.03477 Acc: 100.00%\n",
            "Epoch:  550/1000 Cost: 0.03421 Acc: 100.00%\n",
            "Epoch:  560/1000 Cost: 0.03366 Acc: 100.00%\n",
            "Epoch:  570/1000 Cost: 0.03314 Acc: 100.00%\n",
            "Epoch:  580/1000 Cost: 0.03263 Acc: 100.00%\n",
            "Epoch:  590/1000 Cost: 0.03213 Acc: 100.00%\n",
            "Epoch:  600/1000 Cost: 0.03165 Acc: 100.00%\n",
            "Epoch:  610/1000 Cost: 0.03118 Acc: 100.00%\n",
            "Epoch:  620/1000 Cost: 0.03073 Acc: 100.00%\n",
            "Epoch:  630/1000 Cost: 0.03029 Acc: 100.00%\n",
            "Epoch:  640/1000 Cost: 0.02986 Acc: 100.00%\n",
            "Epoch:  650/1000 Cost: 0.02945 Acc: 100.00%\n",
            "Epoch:  660/1000 Cost: 0.02905 Acc: 100.00%\n",
            "Epoch:  670/1000 Cost: 0.02865 Acc: 100.00%\n",
            "Epoch:  680/1000 Cost: 0.02827 Acc: 100.00%\n",
            "Epoch:  690/1000 Cost: 0.02790 Acc: 100.00%\n",
            "Epoch:  700/1000 Cost: 0.02754 Acc: 100.00%\n",
            "Epoch:  710/1000 Cost: 0.02719 Acc: 100.00%\n",
            "Epoch:  720/1000 Cost: 0.02684 Acc: 100.00%\n",
            "Epoch:  730/1000 Cost: 0.02651 Acc: 100.00%\n",
            "Epoch:  740/1000 Cost: 0.02618 Acc: 100.00%\n",
            "Epoch:  750/1000 Cost: 0.02586 Acc: 100.00%\n",
            "Epoch:  760/1000 Cost: 0.02555 Acc: 100.00%\n",
            "Epoch:  770/1000 Cost: 0.02525 Acc: 100.00%\n",
            "Epoch:  780/1000 Cost: 0.02495 Acc: 100.00%\n",
            "Epoch:  790/1000 Cost: 0.02466 Acc: 100.00%\n",
            "Epoch:  800/1000 Cost: 0.02438 Acc: 100.00%\n",
            "Epoch:  810/1000 Cost: 0.02410 Acc: 100.00%\n",
            "Epoch:  820/1000 Cost: 0.02383 Acc: 100.00%\n",
            "Epoch:  830/1000 Cost: 0.02357 Acc: 100.00%\n",
            "Epoch:  840/1000 Cost: 0.02331 Acc: 100.00%\n",
            "Epoch:  850/1000 Cost: 0.02306 Acc: 100.00%\n",
            "Epoch:  860/1000 Cost: 0.02281 Acc: 100.00%\n",
            "Epoch:  870/1000 Cost: 0.02257 Acc: 100.00%\n",
            "Epoch:  880/1000 Cost: 0.02234 Acc: 100.00%\n",
            "Epoch:  890/1000 Cost: 0.02210 Acc: 100.00%\n",
            "Epoch:  900/1000 Cost: 0.02188 Acc: 100.00%\n",
            "Epoch:  910/1000 Cost: 0.02166 Acc: 100.00%\n",
            "Epoch:  920/1000 Cost: 0.02144 Acc: 100.00%\n",
            "Epoch:  930/1000 Cost: 0.02122 Acc: 100.00%\n",
            "Epoch:  940/1000 Cost: 0.02102 Acc: 100.00%\n",
            "Epoch:  950/1000 Cost: 0.02081 Acc: 100.00%\n",
            "Epoch:  960/1000 Cost: 0.02061 Acc: 100.00%\n",
            "Epoch:  970/1000 Cost: 0.02041 Acc: 100.00%\n",
            "Epoch:  980/1000 Cost: 0.02022 Acc: 100.00%\n",
            "Epoch:  990/1000 Cost: 0.02003 Acc: 100.00%\n",
            "Epoch: 1000/1000 Cost: 0.01984 Acc: 100.00%\n"
          ]
        }
      ]
    },
    {
      "cell_type": "code",
      "source": [
        "model(x_train)"
      ],
      "metadata": {
        "colab": {
          "base_uri": "https://localhost:8080/"
        },
        "id": "V9ZbRBf-KFz0",
        "outputId": "ab970bc1-4ee4-4a17-cff3-07849c489e75"
      },
      "execution_count": 93,
      "outputs": [
        {
          "output_type": "execute_result",
          "data": {
            "text/plain": [
              "tensor([[2.7616e-04],\n",
              "        [3.1595e-02],\n",
              "        [3.8959e-02],\n",
              "        [9.5624e-01],\n",
              "        [9.9823e-01],\n",
              "        [9.9969e-01]], grad_fn=<SigmoidBackward0>)"
            ]
          },
          "metadata": {},
          "execution_count": 93
        }
      ]
    },
    {
      "cell_type": "code",
      "source": [
        "# optimizer 설정\n",
        "optimizer = optim.SGD(model.parameters(), lr=1)\n",
        "\n",
        "nb_epochs = 1000\n",
        "for epoch in range(nb_epochs + 1):\n",
        "\n",
        "    # H(x) 계산\n",
        "    hypothesis = model(x_train)\n",
        "\n",
        "    # cost 계산\n",
        "    cost = F.binary_cross_entropy(hypothesis, y_train)\n",
        "\n",
        "    # cost로 H(x) 개선\n",
        "    optimizer.zero_grad()\n",
        "    cost.backward()\n",
        "    optimizer.step()\n",
        "\n",
        "    # 20번마다 로그 출력\n",
        "    if epoch % 10 == 0:\n",
        "        prediction = hypothesis >= torch.FloatTensor([0.5]) # 예측값이 0.5를 넘으면 True로 간주\n",
        "        correct_prediction = prediction.float() == y_train # 실제값과 일치하는 경우만 True로 간주\n",
        "        accuracy = correct_prediction.sum().item() / len(correct_prediction) # 정확도를 계산\n",
        "        print('Epoch {:4d}/{} Cost: {:.6f} Accuracy {:2.2f}%'.format( # 각 에포크마다 정확도를 출력\n",
        "            epoch, nb_epochs, cost.item(), accuracy * 100,\n",
        "        ))"
      ],
      "metadata": {
        "colab": {
          "base_uri": "https://localhost:8080/"
        },
        "id": "cbMBwfh3MwnO",
        "outputId": "7549abd1-1125-4587-c3dd-a56677e64853"
      },
      "execution_count": 92,
      "outputs": [
        {
          "output_type": "stream",
          "name": "stdout",
          "text": [
            "Epoch    0/1000 Cost: 0.539713 Accuracy 83.33%\n",
            "Epoch   10/1000 Cost: 0.614853 Accuracy 66.67%\n",
            "Epoch   20/1000 Cost: 0.441875 Accuracy 66.67%\n",
            "Epoch   30/1000 Cost: 0.373145 Accuracy 83.33%\n",
            "Epoch   40/1000 Cost: 0.316358 Accuracy 83.33%\n",
            "Epoch   50/1000 Cost: 0.266094 Accuracy 83.33%\n",
            "Epoch   60/1000 Cost: 0.220498 Accuracy 100.00%\n",
            "Epoch   70/1000 Cost: 0.182095 Accuracy 100.00%\n",
            "Epoch   80/1000 Cost: 0.157299 Accuracy 100.00%\n",
            "Epoch   90/1000 Cost: 0.144091 Accuracy 100.00%\n",
            "Epoch  100/1000 Cost: 0.134272 Accuracy 100.00%\n",
            "Epoch  110/1000 Cost: 0.125769 Accuracy 100.00%\n",
            "Epoch  120/1000 Cost: 0.118297 Accuracy 100.00%\n",
            "Epoch  130/1000 Cost: 0.111680 Accuracy 100.00%\n",
            "Epoch  140/1000 Cost: 0.105779 Accuracy 100.00%\n",
            "Epoch  150/1000 Cost: 0.100483 Accuracy 100.00%\n",
            "Epoch  160/1000 Cost: 0.095704 Accuracy 100.00%\n",
            "Epoch  170/1000 Cost: 0.091369 Accuracy 100.00%\n",
            "Epoch  180/1000 Cost: 0.087420 Accuracy 100.00%\n",
            "Epoch  190/1000 Cost: 0.083806 Accuracy 100.00%\n",
            "Epoch  200/1000 Cost: 0.080486 Accuracy 100.00%\n",
            "Epoch  210/1000 Cost: 0.077425 Accuracy 100.00%\n",
            "Epoch  220/1000 Cost: 0.074595 Accuracy 100.00%\n",
            "Epoch  230/1000 Cost: 0.071969 Accuracy 100.00%\n",
            "Epoch  240/1000 Cost: 0.069526 Accuracy 100.00%\n",
            "Epoch  250/1000 Cost: 0.067248 Accuracy 100.00%\n",
            "Epoch  260/1000 Cost: 0.065118 Accuracy 100.00%\n",
            "Epoch  270/1000 Cost: 0.063122 Accuracy 100.00%\n",
            "Epoch  280/1000 Cost: 0.061247 Accuracy 100.00%\n",
            "Epoch  290/1000 Cost: 0.059483 Accuracy 100.00%\n",
            "Epoch  300/1000 Cost: 0.057820 Accuracy 100.00%\n",
            "Epoch  310/1000 Cost: 0.056250 Accuracy 100.00%\n",
            "Epoch  320/1000 Cost: 0.054764 Accuracy 100.00%\n",
            "Epoch  330/1000 Cost: 0.053357 Accuracy 100.00%\n",
            "Epoch  340/1000 Cost: 0.052022 Accuracy 100.00%\n",
            "Epoch  350/1000 Cost: 0.050753 Accuracy 100.00%\n",
            "Epoch  360/1000 Cost: 0.049546 Accuracy 100.00%\n",
            "Epoch  370/1000 Cost: 0.048396 Accuracy 100.00%\n",
            "Epoch  380/1000 Cost: 0.047299 Accuracy 100.00%\n",
            "Epoch  390/1000 Cost: 0.046252 Accuracy 100.00%\n",
            "Epoch  400/1000 Cost: 0.045251 Accuracy 100.00%\n",
            "Epoch  410/1000 Cost: 0.044294 Accuracy 100.00%\n",
            "Epoch  420/1000 Cost: 0.043376 Accuracy 100.00%\n",
            "Epoch  430/1000 Cost: 0.042497 Accuracy 100.00%\n",
            "Epoch  440/1000 Cost: 0.041653 Accuracy 100.00%\n",
            "Epoch  450/1000 Cost: 0.040843 Accuracy 100.00%\n",
            "Epoch  460/1000 Cost: 0.040064 Accuracy 100.00%\n",
            "Epoch  470/1000 Cost: 0.039315 Accuracy 100.00%\n",
            "Epoch  480/1000 Cost: 0.038593 Accuracy 100.00%\n",
            "Epoch  490/1000 Cost: 0.037898 Accuracy 100.00%\n",
            "Epoch  500/1000 Cost: 0.037228 Accuracy 100.00%\n",
            "Epoch  510/1000 Cost: 0.036582 Accuracy 100.00%\n",
            "Epoch  520/1000 Cost: 0.035958 Accuracy 100.00%\n",
            "Epoch  530/1000 Cost: 0.035356 Accuracy 100.00%\n",
            "Epoch  540/1000 Cost: 0.034773 Accuracy 100.00%\n",
            "Epoch  550/1000 Cost: 0.034210 Accuracy 100.00%\n",
            "Epoch  560/1000 Cost: 0.033664 Accuracy 100.00%\n",
            "Epoch  570/1000 Cost: 0.033137 Accuracy 100.00%\n",
            "Epoch  580/1000 Cost: 0.032625 Accuracy 100.00%\n",
            "Epoch  590/1000 Cost: 0.032130 Accuracy 100.00%\n",
            "Epoch  600/1000 Cost: 0.031649 Accuracy 100.00%\n",
            "Epoch  610/1000 Cost: 0.031183 Accuracy 100.00%\n",
            "Epoch  620/1000 Cost: 0.030730 Accuracy 100.00%\n",
            "Epoch  630/1000 Cost: 0.030291 Accuracy 100.00%\n",
            "Epoch  640/1000 Cost: 0.029864 Accuracy 100.00%\n",
            "Epoch  650/1000 Cost: 0.029449 Accuracy 100.00%\n",
            "Epoch  660/1000 Cost: 0.029046 Accuracy 100.00%\n",
            "Epoch  670/1000 Cost: 0.028654 Accuracy 100.00%\n",
            "Epoch  680/1000 Cost: 0.028272 Accuracy 100.00%\n",
            "Epoch  690/1000 Cost: 0.027900 Accuracy 100.00%\n",
            "Epoch  700/1000 Cost: 0.027538 Accuracy 100.00%\n",
            "Epoch  710/1000 Cost: 0.027186 Accuracy 100.00%\n",
            "Epoch  720/1000 Cost: 0.026842 Accuracy 100.00%\n",
            "Epoch  730/1000 Cost: 0.026507 Accuracy 100.00%\n",
            "Epoch  740/1000 Cost: 0.026181 Accuracy 100.00%\n",
            "Epoch  750/1000 Cost: 0.025862 Accuracy 100.00%\n",
            "Epoch  760/1000 Cost: 0.025552 Accuracy 100.00%\n",
            "Epoch  770/1000 Cost: 0.025248 Accuracy 100.00%\n",
            "Epoch  780/1000 Cost: 0.024952 Accuracy 100.00%\n",
            "Epoch  790/1000 Cost: 0.024663 Accuracy 100.00%\n",
            "Epoch  800/1000 Cost: 0.024381 Accuracy 100.00%\n",
            "Epoch  810/1000 Cost: 0.024104 Accuracy 100.00%\n",
            "Epoch  820/1000 Cost: 0.023835 Accuracy 100.00%\n",
            "Epoch  830/1000 Cost: 0.023571 Accuracy 100.00%\n",
            "Epoch  840/1000 Cost: 0.023313 Accuracy 100.00%\n",
            "Epoch  850/1000 Cost: 0.023061 Accuracy 100.00%\n",
            "Epoch  860/1000 Cost: 0.022814 Accuracy 100.00%\n",
            "Epoch  870/1000 Cost: 0.022572 Accuracy 100.00%\n",
            "Epoch  880/1000 Cost: 0.022336 Accuracy 100.00%\n",
            "Epoch  890/1000 Cost: 0.022104 Accuracy 100.00%\n",
            "Epoch  900/1000 Cost: 0.021877 Accuracy 100.00%\n",
            "Epoch  910/1000 Cost: 0.021655 Accuracy 100.00%\n",
            "Epoch  920/1000 Cost: 0.021437 Accuracy 100.00%\n",
            "Epoch  930/1000 Cost: 0.021224 Accuracy 100.00%\n",
            "Epoch  940/1000 Cost: 0.021015 Accuracy 100.00%\n",
            "Epoch  950/1000 Cost: 0.020810 Accuracy 100.00%\n",
            "Epoch  960/1000 Cost: 0.020609 Accuracy 100.00%\n",
            "Epoch  970/1000 Cost: 0.020412 Accuracy 100.00%\n",
            "Epoch  980/1000 Cost: 0.020219 Accuracy 100.00%\n",
            "Epoch  990/1000 Cost: 0.020029 Accuracy 100.00%\n",
            "Epoch 1000/1000 Cost: 0.019843 Accuracy 100.00%\n"
          ]
        }
      ]
    },
    {
      "cell_type": "code",
      "source": [
        "print(list(model.parameters()))"
      ],
      "metadata": {
        "colab": {
          "base_uri": "https://localhost:8080/"
        },
        "id": "G79WQX8ENkV2",
        "outputId": "0b44ba27-4449-41a4-f919-7dee2c14d262"
      },
      "execution_count": 94,
      "outputs": [
        {
          "output_type": "stream",
          "name": "stdout",
          "text": [
            "[Parameter containing:\n",
            "tensor([[3.2534, 1.5181]], requires_grad=True), Parameter containing:\n",
            "tensor([-14.4839], requires_grad=True)]\n"
          ]
        }
      ]
    },
    {
      "cell_type": "code",
      "source": [
        "import torch\n",
        "import torch.nn as nn\n",
        "import torch.nn.functional as F\n",
        "import torch.optim as optim\n",
        "torch.manual_seed(1)"
      ],
      "metadata": {
        "colab": {
          "base_uri": "https://localhost:8080/"
        },
        "id": "Fb9Yg2N0NyBE",
        "outputId": "e02e9ed9-cc6a-4747-9115-edc1cf5a8d1c"
      },
      "execution_count": 95,
      "outputs": [
        {
          "output_type": "execute_result",
          "data": {
            "text/plain": [
              "<torch._C.Generator at 0x7f3a48be1af0>"
            ]
          },
          "metadata": {},
          "execution_count": 95
        }
      ]
    },
    {
      "cell_type": "code",
      "source": [
        "x_data = [[1, 2], [2, 3], [3, 1], [4, 3], [5, 3], [6, 2]]\n",
        "y_data = [[0], [0], [0], [1], [1], [1]]\n",
        "x_train = torch.FloatTensor(x_data)\n",
        "y_train = torch.FloatTensor(y_data)"
      ],
      "metadata": {
        "id": "cINnntRoQ5tV"
      },
      "execution_count": 107,
      "outputs": []
    },
    {
      "cell_type": "code",
      "source": [
        "class BinaryClassifier(nn.Module):\n",
        "  def __init__(self):\n",
        "    super().__init__()\n",
        "    self.linear= nn.Linear(2,1)\n",
        "    self.sigmoid= nn.Sigmoid()\n",
        "\n",
        "  def forward(self, x):\n",
        "    return self.sigmoid(self.linear(x))"
      ],
      "metadata": {
        "id": "DGqFASXaQ8Rs"
      },
      "execution_count": 108,
      "outputs": []
    },
    {
      "cell_type": "code",
      "source": [
        "model=BinaryClassifier()"
      ],
      "metadata": {
        "id": "xSLQSXKZXMMz"
      },
      "execution_count": 109,
      "outputs": []
    },
    {
      "cell_type": "code",
      "source": [
        "optimizer=optim.SGD(model.parameters(),lr=1)\n",
        "epochs=100\n",
        "for epoch in range(epochs+1):\n",
        "  hypothesis=model(x_train)\n",
        "  cost=F.binary_cross_entropy(hypothesis, y_train)\n",
        "\n",
        "  optimizer.zero_grad()\n",
        "  cost.backward()\n",
        "  optimizer.step()\n",
        "\n",
        "  if epoch %10==0:\n",
        "    prediction= hypothesis >= torch.FloatTensor([0.5])\n",
        "    print(prediction)\n",
        "    correct_prediction= prediction.float()== y_train\n",
        "    prediction.float()\n",
        "    print(correct_prediction)\n",
        "    acc=correct_prediction.sum().item()/len(correct_prediction)\n",
        "    print(correct_prediction.sum().item())\n",
        "    print(len(correct_prediction))\n",
        "    print('Epoch:{:4d}/{} Cost:{:.5f} Acc: {:2.2f}'.format(\n",
        "        epoch, epochs, cost.item(), acc*100\n",
        "    ))"
      ],
      "metadata": {
        "colab": {
          "base_uri": "https://localhost:8080/"
        },
        "id": "knsu9H6_XOFm",
        "outputId": "6fa4edf1-e23f-4572-bf50-5995567a8b48"
      },
      "execution_count": 110,
      "outputs": [
        {
          "output_type": "stream",
          "name": "stdout",
          "text": [
            "tensor([[ True],\n",
            "        [ True],\n",
            "        [ True],\n",
            "        [ True],\n",
            "        [ True],\n",
            "        [False]])\n",
            "tensor([[False],\n",
            "        [False],\n",
            "        [False],\n",
            "        [ True],\n",
            "        [ True],\n",
            "        [False]])\n",
            "2\n",
            "6\n",
            "Epoch:   0/100 Cost:0.77895 Acc: 33.33\n",
            "tensor([[False],\n",
            "        [False],\n",
            "        [False],\n",
            "        [False],\n",
            "        [False],\n",
            "        [ True]])\n",
            "tensor([[ True],\n",
            "        [ True],\n",
            "        [ True],\n",
            "        [False],\n",
            "        [False],\n",
            "        [ True]])\n",
            "4\n",
            "6\n",
            "Epoch:  10/100 Cost:0.60680 Acc: 66.67\n",
            "tensor([[False],\n",
            "        [False],\n",
            "        [ True],\n",
            "        [False],\n",
            "        [ True],\n",
            "        [ True]])\n",
            "tensor([[ True],\n",
            "        [ True],\n",
            "        [False],\n",
            "        [False],\n",
            "        [ True],\n",
            "        [ True]])\n",
            "4\n",
            "6\n",
            "Epoch:  20/100 Cost:0.44655 Acc: 66.67\n",
            "tensor([[False],\n",
            "        [False],\n",
            "        [False],\n",
            "        [False],\n",
            "        [ True],\n",
            "        [ True]])\n",
            "tensor([[ True],\n",
            "        [ True],\n",
            "        [ True],\n",
            "        [False],\n",
            "        [ True],\n",
            "        [ True]])\n",
            "5\n",
            "6\n",
            "Epoch:  30/100 Cost:0.37617 Acc: 83.33\n",
            "tensor([[False],\n",
            "        [False],\n",
            "        [False],\n",
            "        [False],\n",
            "        [ True],\n",
            "        [ True]])\n",
            "tensor([[ True],\n",
            "        [ True],\n",
            "        [ True],\n",
            "        [False],\n",
            "        [ True],\n",
            "        [ True]])\n",
            "5\n",
            "6\n",
            "Epoch:  40/100 Cost:0.31895 Acc: 83.33\n",
            "tensor([[False],\n",
            "        [False],\n",
            "        [False],\n",
            "        [False],\n",
            "        [ True],\n",
            "        [ True]])\n",
            "tensor([[ True],\n",
            "        [ True],\n",
            "        [ True],\n",
            "        [False],\n",
            "        [ True],\n",
            "        [ True]])\n",
            "5\n",
            "6\n",
            "Epoch:  50/100 Cost:0.26843 Acc: 83.33\n",
            "tensor([[False],\n",
            "        [False],\n",
            "        [False],\n",
            "        [ True],\n",
            "        [ True],\n",
            "        [ True]])\n",
            "tensor([[True],\n",
            "        [True],\n",
            "        [True],\n",
            "        [True],\n",
            "        [True],\n",
            "        [True]])\n",
            "6\n",
            "6\n",
            "Epoch:  60/100 Cost:0.22259 Acc: 100.00\n",
            "tensor([[False],\n",
            "        [False],\n",
            "        [False],\n",
            "        [ True],\n",
            "        [ True],\n",
            "        [ True]])\n",
            "tensor([[True],\n",
            "        [True],\n",
            "        [True],\n",
            "        [True],\n",
            "        [True],\n",
            "        [True]])\n",
            "6\n",
            "6\n",
            "Epoch:  70/100 Cost:0.18369 Acc: 100.00\n",
            "tensor([[False],\n",
            "        [False],\n",
            "        [False],\n",
            "        [ True],\n",
            "        [ True],\n",
            "        [ True]])\n",
            "tensor([[True],\n",
            "        [True],\n",
            "        [True],\n",
            "        [True],\n",
            "        [True],\n",
            "        [True]])\n",
            "6\n",
            "6\n",
            "Epoch:  80/100 Cost:0.15816 Acc: 100.00\n",
            "tensor([[False],\n",
            "        [False],\n",
            "        [False],\n",
            "        [ True],\n",
            "        [ True],\n",
            "        [ True]])\n",
            "tensor([[True],\n",
            "        [True],\n",
            "        [True],\n",
            "        [True],\n",
            "        [True],\n",
            "        [True]])\n",
            "6\n",
            "6\n",
            "Epoch:  90/100 Cost:0.14462 Acc: 100.00\n",
            "tensor([[False],\n",
            "        [False],\n",
            "        [False],\n",
            "        [ True],\n",
            "        [ True],\n",
            "        [ True]])\n",
            "tensor([[True],\n",
            "        [True],\n",
            "        [True],\n",
            "        [True],\n",
            "        [True],\n",
            "        [True]])\n",
            "6\n",
            "6\n",
            "Epoch: 100/100 Cost:0.13472 Acc: 100.00\n"
          ]
        }
      ]
    },
    {
      "cell_type": "code",
      "source": [
        ""
      ],
      "metadata": {
        "id": "VSh1I3yiY0CY"
      },
      "execution_count": null,
      "outputs": []
    }
  ]
}